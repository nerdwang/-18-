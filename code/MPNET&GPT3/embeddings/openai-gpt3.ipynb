{
 "cells": [
  {
   "cell_type": "code",
   "execution_count": 22,
   "id": "b7a56a8f",
   "metadata": {},
   "outputs": [],
   "source": [
    "import openai\n",
    "import pandas as pd\n",
    "from openai import OpenAI\n",
    "import numpy as np"
   ]
  },
  {
   "cell_type": "code",
   "execution_count": 23,
   "id": "e18c406c",
   "metadata": {},
   "outputs": [],
   "source": [
    "df=pd.read_csv(r\"E:\\bigalien\\data.csv\")"
   ]
  },
  {
   "cell_type": "code",
   "execution_count": 24,
   "id": "605545cc",
   "metadata": {},
   "outputs": [
    {
     "data": {
      "text/html": [
       "<div>\n",
       "<style scoped>\n",
       "    .dataframe tbody tr th:only-of-type {\n",
       "        vertical-align: middle;\n",
       "    }\n",
       "\n",
       "    .dataframe tbody tr th {\n",
       "        vertical-align: top;\n",
       "    }\n",
       "\n",
       "    .dataframe thead th {\n",
       "        text-align: right;\n",
       "    }\n",
       "</style>\n",
       "<table border=\"1\" class=\"dataframe\">\n",
       "  <thead>\n",
       "    <tr style=\"text-align: right;\">\n",
       "      <th></th>\n",
       "      <th>text</th>\n",
       "      <th>category</th>\n",
       "    </tr>\n",
       "  </thead>\n",
       "  <tbody>\n",
       "    <tr>\n",
       "      <th>0</th>\n",
       "      <td>WASHINGTON (Reuters) head conservative Republi...</td>\n",
       "      <td>1</td>\n",
       "    </tr>\n",
       "    <tr>\n",
       "      <th>1</th>\n",
       "      <td>WASHINGTON (Reuters) Transgender people allowe...</td>\n",
       "      <td>1</td>\n",
       "    </tr>\n",
       "    <tr>\n",
       "      <th>2</th>\n",
       "      <td>WASHINGTON (Reuters) special counsel investiga...</td>\n",
       "      <td>1</td>\n",
       "    </tr>\n",
       "    <tr>\n",
       "      <th>3</th>\n",
       "      <td>WASHINGTON (Reuters) Trump campaign adviser Ge...</td>\n",
       "      <td>1</td>\n",
       "    </tr>\n",
       "    <tr>\n",
       "      <th>4</th>\n",
       "      <td>SEATTLE/WASHINGTON (Reuters) President Donald ...</td>\n",
       "      <td>1</td>\n",
       "    </tr>\n",
       "    <tr>\n",
       "      <th>...</th>\n",
       "      <td>...</td>\n",
       "      <td>...</td>\n",
       "    </tr>\n",
       "    <tr>\n",
       "      <th>44884</th>\n",
       "      <td>21st Century Wire says 21WIRE reported earlier...</td>\n",
       "      <td>0</td>\n",
       "    </tr>\n",
       "    <tr>\n",
       "      <th>44885</th>\n",
       "      <td>21st Century Wire says familiar theme. Wheneve...</td>\n",
       "      <td>0</td>\n",
       "    </tr>\n",
       "    <tr>\n",
       "      <th>44886</th>\n",
       "      <td>Patrick Henningsen 21st Century WireRemember O...</td>\n",
       "      <td>0</td>\n",
       "    </tr>\n",
       "    <tr>\n",
       "      <th>44887</th>\n",
       "      <td>21st Century Wire says Al Jazeera America go h...</td>\n",
       "      <td>0</td>\n",
       "    </tr>\n",
       "    <tr>\n",
       "      <th>44888</th>\n",
       "      <td>21st Century Wire says 21WIRE predicted new ye...</td>\n",
       "      <td>0</td>\n",
       "    </tr>\n",
       "  </tbody>\n",
       "</table>\n",
       "<p>44889 rows × 2 columns</p>\n",
       "</div>"
      ],
      "text/plain": [
       "                                                    text  category\n",
       "0      WASHINGTON (Reuters) head conservative Republi...         1\n",
       "1      WASHINGTON (Reuters) Transgender people allowe...         1\n",
       "2      WASHINGTON (Reuters) special counsel investiga...         1\n",
       "3      WASHINGTON (Reuters) Trump campaign adviser Ge...         1\n",
       "4      SEATTLE/WASHINGTON (Reuters) President Donald ...         1\n",
       "...                                                  ...       ...\n",
       "44884  21st Century Wire says 21WIRE reported earlier...         0\n",
       "44885  21st Century Wire says familiar theme. Wheneve...         0\n",
       "44886  Patrick Henningsen 21st Century WireRemember O...         0\n",
       "44887  21st Century Wire says Al Jazeera America go h...         0\n",
       "44888  21st Century Wire says 21WIRE predicted new ye...         0\n",
       "\n",
       "[44889 rows x 2 columns]"
      ]
     },
     "execution_count": 24,
     "metadata": {},
     "output_type": "execute_result"
    }
   ],
   "source": [
    "df"
   ]
  },
  {
   "cell_type": "code",
   "execution_count": 25,
   "id": "a71a63e3",
   "metadata": {},
   "outputs": [],
   "source": [
    "import os\n",
    "os.environ[\"OPENAI_API_KEY\"] = \"这里填入自己的openai api\"\n",
    "os.environ[\"http_proxy\"] = \"http://127.0.0.1:7890\"\n",
    "os.environ[\"https_proxy\"] = \"http://127.0.0.1:7890\""
   ]
  },
  {
   "cell_type": "code",
   "execution_count": 26,
   "id": "08079be3",
   "metadata": {},
   "outputs": [
    {
     "name": "stderr",
     "output_type": "stream",
     "text": [
      "Processing: 100%|██████████████████████████████████████████████████████████████| 44889/44889 [5:30:29<00:00,  2.26it/s]\n"
     ]
    }
   ],
   "source": [
    "from openai import OpenAI\n",
    "import pandas as pd\n",
    "from tqdm import tqdm\n",
    "import numpy as np\n",
    "\n",
    "# 创建OpenAI客户端\n",
    "client = OpenAI()\n",
    "\n",
    "def get_embedding(text, model=\"text-embedding-ada-002\"):\n",
    "    text = text.replace(\"\\n\", \" \")\n",
    "    return client.embeddings.create(input=[text], model=model).data[0].embedding\n",
    "\n",
    "# 初始化一个空列表来存储嵌入向量\n",
    "embeddings = []\n",
    "\n",
    "# 使用tqdm创建进度条\n",
    "for i in tqdm(range(len(df)), desc=\"Processing\"):\n",
    "    # 处理单行数据\n",
    "    embedding = get_embedding(df.iloc[i]['text'], model='text-embedding-ada-002')\n",
    "    embeddings.append(embedding)\n",
    "    \n",
    "    # 每1000次迭代保存一次\n",
    "    if (i + 1) % 1000 == 0 or i == len(df) - 1:  # 最后一次迭代也保存\n",
    "        # 将最后1000个嵌入向量保存为NumPy文件\n",
    "        np.save(f'output/embeddings_batch_{i // 1000}.npy', np.array(embeddings[-1000:]))\n",
    "        if i != len(df) - 1:  # 如果不是最后一次迭代，清空嵌入向量列表\n",
    "            embeddings = []"
   ]
  },
  {
   "cell_type": "code",
   "execution_count": 32,
   "id": "14cb5f8d",
   "metadata": {},
   "outputs": [],
   "source": [
    "import numpy as np\n",
    "\n",
    "# 初始化一个空列表来存储加载的数据\n",
    "all_embeddings = []\n",
    "\n",
    "# 循环从0到44加载每个文件\n",
    "for i in range(45):\n",
    "    batch_embeddings = np.load(f'output/embeddings_batch_{i}.npy')\n",
    "    all_embeddings.append(batch_embeddings)\n",
    "\n",
    "# 使用vstack将所有嵌入向量垂直堆叠起来\n",
    "all_embeddings_stacked = np.vstack(all_embeddings)"
   ]
  },
  {
   "cell_type": "code",
   "execution_count": 33,
   "id": "744a0cbc",
   "metadata": {},
   "outputs": [
    {
     "data": {
      "text/plain": [
       "(44889, 1536)"
      ]
     },
     "execution_count": 33,
     "metadata": {},
     "output_type": "execute_result"
    }
   ],
   "source": [
    "all_embeddings_stacked.shape"
   ]
  },
  {
   "cell_type": "code",
   "execution_count": 34,
   "id": "798347ab",
   "metadata": {},
   "outputs": [],
   "source": [
    "np.save('gpt3emb.npy', all_embeddings_stacked)"
   ]
  }
 ],
 "metadata": {
  "kernelspec": {
   "display_name": "OpenAI Test",
   "language": "python",
   "name": "openai-test"
  },
  "language_info": {
   "codemirror_mode": {
    "name": "ipython",
    "version": 3
   },
   "file_extension": ".py",
   "mimetype": "text/x-python",
   "name": "python",
   "nbconvert_exporter": "python",
   "pygments_lexer": "ipython3",
   "version": "3.7.16"
  }
 },
 "nbformat": 4,
 "nbformat_minor": 5
}
