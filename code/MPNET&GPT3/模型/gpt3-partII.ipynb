{
 "cells": [
  {
   "cell_type": "code",
   "execution_count": 4,
   "id": "a683d66b-e962-4ea0-9359-5ed042dc56d6",
   "metadata": {},
   "outputs": [
    {
     "name": "stderr",
     "output_type": "stream",
     "text": [
      "2023-12-10 14:26:42.145694: I tensorflow/core/platform/cpu_feature_guard.cc:193] This TensorFlow binary is optimized with oneAPI Deep Neural Network Library (oneDNN) to use the following CPU instructions in performance-critical operations:  AVX2 AVX512F AVX512_VNNI FMA\n",
      "To enable them in other operations, rebuild TensorFlow with the appropriate compiler flags.\n",
      "2023-12-10 14:26:43.259930: I tensorflow/core/common_runtime/gpu/gpu_device.cc:1532] Created device /job:localhost/replica:0/task:0/device:GPU:0 with 10099 MB memory:  -> device: 0, name: NVIDIA GeForce RTX 3080 Ti, pci bus id: 0000:b1:00.0, compute capability: 8.6\n"
     ]
    }
   ],
   "source": [
    "import tensorflow as tf\n",
    "from tensorflow.keras.models import Sequential\n",
    "from tensorflow.keras.layers import Dense\n",
    "from tensorflow.keras.optimizers import Adam\n",
    "from tensorflow.keras.callbacks import EarlyStopping, ModelCheckpoint, TensorBoard\n",
    "import numpy as np\n",
    "from sklearn.model_selection import train_test_split\n",
    "\n",
    "# 加载数据\n",
    "X = np.load(\"gpt3emb.npy\")\n",
    "y = np.load(\"y.npy\")\n",
    "\n",
    "# 划分数据集\n",
    "X_train, X_test, y_train, y_test = train_test_split(X, y, test_size=0.2, random_state=42)\n",
    "\n",
    "# 构建模型\n",
    "model = Sequential()\n",
    "model.add(Dense(128, activation='relu', input_shape=(X_train.shape[1],)))\n",
    "model.add(Dense(64, activation='relu'))\n",
    "model.add(Dense(32, activation='relu'))\n",
    "model.add(Dense(1, activation='sigmoid'))  # 假设是一个二分类问题\n",
    "\n",
    "# 编译模型\n",
    "model.compile(optimizer=Adam(learning_rate=0.001), loss='binary_crossentropy', metrics=['accuracy'])\n",
    "\n",
    "# 设置早停和模型检查点\n",
    "early_stopping = EarlyStopping(monitor='val_loss', patience=10)\n",
    "model_checkpoint = ModelCheckpoint('best_model.h5', save_best_only=True)\n",
    "tensorboard = TensorBoard(log_dir='./logs')"
   ]
  },
  {
   "cell_type": "code",
   "execution_count": 5,
   "id": "894fa6c6-6dfa-4a4c-b1bf-0b69b8b102c9",
   "metadata": {},
   "outputs": [
    {
     "name": "stdout",
     "output_type": "stream",
     "text": [
      "Epoch 1/50\n"
     ]
    },
    {
     "name": "stderr",
     "output_type": "stream",
     "text": [
      "2023-12-10 14:26:52.728801: I tensorflow/stream_executor/cuda/cuda_blas.cc:1786] TensorFloat-32 will be used for the matrix multiplication. This will only be logged once.\n"
     ]
    },
    {
     "name": "stdout",
     "output_type": "stream",
     "text": [
      "449/449 [==============================] - 5s 5ms/step - loss: 0.0623 - accuracy: 0.9804 - val_loss: 0.0055 - val_accuracy: 0.9986\n",
      "Epoch 2/50\n",
      "449/449 [==============================] - 2s 5ms/step - loss: 0.0053 - accuracy: 0.9980 - val_loss: 0.0046 - val_accuracy: 0.9982\n",
      "Epoch 3/50\n",
      "449/449 [==============================] - 2s 5ms/step - loss: 0.0035 - accuracy: 0.9988 - val_loss: 0.0073 - val_accuracy: 0.9974\n",
      "Epoch 4/50\n",
      "449/449 [==============================] - 2s 5ms/step - loss: 0.0039 - accuracy: 0.9985 - val_loss: 0.0039 - val_accuracy: 0.9983\n",
      "Epoch 5/50\n",
      "449/449 [==============================] - 2s 5ms/step - loss: 6.3874e-04 - accuracy: 0.9999 - val_loss: 0.0024 - val_accuracy: 0.9992\n",
      "Epoch 6/50\n",
      "449/449 [==============================] - 2s 5ms/step - loss: 2.8805e-04 - accuracy: 1.0000 - val_loss: 0.0033 - val_accuracy: 0.9987\n",
      "Epoch 7/50\n",
      "449/449 [==============================] - 2s 4ms/step - loss: 5.8897e-05 - accuracy: 1.0000 - val_loss: 0.0013 - val_accuracy: 0.9994\n",
      "Epoch 8/50\n",
      "449/449 [==============================] - 2s 5ms/step - loss: 2.3130e-05 - accuracy: 1.0000 - val_loss: 0.0012 - val_accuracy: 0.9994\n",
      "Epoch 9/50\n",
      "449/449 [==============================] - 2s 5ms/step - loss: 1.2026e-05 - accuracy: 1.0000 - val_loss: 0.0013 - val_accuracy: 0.9993\n",
      "Epoch 10/50\n",
      "449/449 [==============================] - 2s 5ms/step - loss: 9.1457e-06 - accuracy: 1.0000 - val_loss: 0.0011 - val_accuracy: 0.9993\n",
      "Epoch 11/50\n",
      "449/449 [==============================] - 2s 5ms/step - loss: 6.9047e-06 - accuracy: 1.0000 - val_loss: 0.0010 - val_accuracy: 0.9993\n",
      "Epoch 12/50\n",
      "449/449 [==============================] - 2s 5ms/step - loss: 5.4303e-06 - accuracy: 1.0000 - val_loss: 0.0010 - val_accuracy: 0.9993\n",
      "Epoch 13/50\n",
      "449/449 [==============================] - 2s 5ms/step - loss: 4.1735e-06 - accuracy: 1.0000 - val_loss: 0.0011 - val_accuracy: 0.9993\n",
      "Epoch 14/50\n",
      "449/449 [==============================] - 2s 5ms/step - loss: 3.2386e-06 - accuracy: 1.0000 - val_loss: 0.0010 - val_accuracy: 0.9994\n",
      "Epoch 15/50\n",
      "449/449 [==============================] - 2s 5ms/step - loss: 2.4790e-06 - accuracy: 1.0000 - val_loss: 9.4424e-04 - val_accuracy: 0.9994\n",
      "Epoch 16/50\n",
      "449/449 [==============================] - 2s 5ms/step - loss: 1.9488e-06 - accuracy: 1.0000 - val_loss: 0.0012 - val_accuracy: 0.9993\n",
      "Epoch 17/50\n",
      "449/449 [==============================] - 2s 5ms/step - loss: 1.5569e-06 - accuracy: 1.0000 - val_loss: 9.6369e-04 - val_accuracy: 0.9994\n",
      "Epoch 18/50\n",
      "449/449 [==============================] - 2s 5ms/step - loss: 1.2130e-06 - accuracy: 1.0000 - val_loss: 9.3932e-04 - val_accuracy: 0.9994\n",
      "Epoch 19/50\n",
      "449/449 [==============================] - 2s 5ms/step - loss: 9.5390e-07 - accuracy: 1.0000 - val_loss: 9.0716e-04 - val_accuracy: 0.9994\n",
      "Epoch 20/50\n",
      "449/449 [==============================] - 2s 5ms/step - loss: 7.4425e-07 - accuracy: 1.0000 - val_loss: 9.5523e-04 - val_accuracy: 0.9994\n",
      "Epoch 21/50\n",
      "449/449 [==============================] - 2s 4ms/step - loss: 5.8187e-07 - accuracy: 1.0000 - val_loss: 9.2864e-04 - val_accuracy: 0.9994\n",
      "Epoch 22/50\n",
      "449/449 [==============================] - 2s 4ms/step - loss: 4.4980e-07 - accuracy: 1.0000 - val_loss: 9.1718e-04 - val_accuracy: 0.9994\n",
      "Epoch 23/50\n",
      "449/449 [==============================] - 2s 5ms/step - loss: 3.5505e-07 - accuracy: 1.0000 - val_loss: 8.7886e-04 - val_accuracy: 0.9994\n",
      "Epoch 24/50\n",
      "449/449 [==============================] - 2s 5ms/step - loss: 2.7445e-07 - accuracy: 1.0000 - val_loss: 8.9499e-04 - val_accuracy: 0.9994\n",
      "Epoch 25/50\n",
      "449/449 [==============================] - 2s 5ms/step - loss: 2.1558e-07 - accuracy: 1.0000 - val_loss: 8.5174e-04 - val_accuracy: 0.9996\n",
      "Epoch 26/50\n",
      "449/449 [==============================] - 2s 5ms/step - loss: 1.7187e-07 - accuracy: 1.0000 - val_loss: 8.9862e-04 - val_accuracy: 0.9994\n",
      "Epoch 27/50\n",
      "449/449 [==============================] - 2s 5ms/step - loss: 1.3157e-07 - accuracy: 1.0000 - val_loss: 8.4569e-04 - val_accuracy: 0.9996\n",
      "Epoch 28/50\n",
      "449/449 [==============================] - 2s 5ms/step - loss: 1.0408e-07 - accuracy: 1.0000 - val_loss: 9.0869e-04 - val_accuracy: 0.9994\n",
      "Epoch 29/50\n",
      "449/449 [==============================] - 2s 5ms/step - loss: 8.0519e-08 - accuracy: 1.0000 - val_loss: 7.9353e-04 - val_accuracy: 0.9996\n",
      "Epoch 30/50\n",
      "449/449 [==============================] - 2s 5ms/step - loss: 6.5457e-08 - accuracy: 1.0000 - val_loss: 8.5086e-04 - val_accuracy: 0.9996\n",
      "Epoch 31/50\n",
      "449/449 [==============================] - 2s 5ms/step - loss: 4.9488e-08 - accuracy: 1.0000 - val_loss: 8.2521e-04 - val_accuracy: 0.9996\n",
      "Epoch 32/50\n",
      "449/449 [==============================] - 2s 5ms/step - loss: 3.9426e-08 - accuracy: 1.0000 - val_loss: 8.0998e-04 - val_accuracy: 0.9996\n",
      "Epoch 33/50\n",
      "449/449 [==============================] - 2s 5ms/step - loss: 3.1309e-08 - accuracy: 1.0000 - val_loss: 8.6646e-04 - val_accuracy: 0.9996\n",
      "Epoch 34/50\n",
      "449/449 [==============================] - 2s 5ms/step - loss: 2.4573e-08 - accuracy: 1.0000 - val_loss: 8.5196e-04 - val_accuracy: 0.9996\n",
      "Epoch 35/50\n",
      "449/449 [==============================] - 2s 5ms/step - loss: 1.9648e-08 - accuracy: 1.0000 - val_loss: 8.4962e-04 - val_accuracy: 0.9996\n",
      "Epoch 36/50\n",
      "449/449 [==============================] - 2s 5ms/step - loss: 1.5549e-08 - accuracy: 1.0000 - val_loss: 9.0981e-04 - val_accuracy: 0.9994\n",
      "Epoch 37/50\n",
      "449/449 [==============================] - 2s 5ms/step - loss: 1.2379e-08 - accuracy: 1.0000 - val_loss: 9.3872e-04 - val_accuracy: 0.9994\n",
      "Epoch 38/50\n",
      "449/449 [==============================] - 2s 5ms/step - loss: 9.9983e-09 - accuracy: 1.0000 - val_loss: 9.7931e-04 - val_accuracy: 0.9994\n",
      "Epoch 39/50\n",
      "449/449 [==============================] - 2s 5ms/step - loss: 7.9766e-09 - accuracy: 1.0000 - val_loss: 8.5203e-04 - val_accuracy: 0.9996\n"
     ]
    }
   ],
   "source": [
    "history = model.fit(X_train, y_train, validation_split=0.2, epochs=50, batch_size=64, callbacks=[early_stopping, model_checkpoint, tensorboard], verbose=1)"
   ]
  },
  {
   "cell_type": "code",
   "execution_count": 6,
   "id": "5f518dff-e766-4b72-b9ed-1e21103fa32a",
   "metadata": {},
   "outputs": [
    {
     "data": {
      "image/png": "[encoded data removed]",
      "text/plain": [
       "<Figure size 432x288 with 1 Axes>"
      ]
     },
     "metadata": {
      "needs_background": "light"
     },
     "output_type": "display_data"
    },
    {
     "data": {
      "image/png": "[encoded data removed]",
      "text/plain": [
       "<Figure size 432x288 with 1 Axes>"
      ]
     },
     "metadata": {
      "needs_background": "light"
     },
     "output_type": "display_data"
    }
   ],
   "source": [
    "import matplotlib.pyplot as plt\n",
    "\n",
    "# 绘制精度图\n",
    "plt.plot(history.history['accuracy'])\n",
    "plt.plot(history.history['val_accuracy'])\n",
    "plt.title('Model Accuracy')\n",
    "plt.ylabel('Accuracy')\n",
    "plt.xlabel('Epoch')\n",
    "plt.legend(['Train', 'Validation'], loc='upper left')\n",
    "plt.show()\n",
    "\n",
    "# 绘制损失图\n",
    "plt.plot(history.history['loss'])\n",
    "plt.plot(history.history['val_loss'])\n",
    "plt.title('Model Loss')\n",
    "plt.ylabel('Loss')\n",
    "plt.xlabel('Epoch')\n",
    "plt.legend(['Train', 'Validation'], loc='upper left')\n",
    "plt.show()"
   ]
  },
  {
   "cell_type": "code",
   "execution_count": 7,
   "id": "e65f00cd-6eb5-4e45-8727-ac69c9dfd1f3",
   "metadata": {},
   "outputs": [
    {
     "name": "stdout",
     "output_type": "stream",
     "text": [
      "281/281 [==============================] - 1s 2ms/step\n",
      "              precision    recall  f1-score   support\n",
      "\n",
      "           0       1.00      1.00      1.00      4677\n",
      "           1       1.00      1.00      1.00      4301\n",
      "\n",
      "    accuracy                           1.00      8978\n",
      "   macro avg       1.00      1.00      1.00      8978\n",
      "weighted avg       1.00      1.00      1.00      8978\n",
      "\n"
     ]
    }
   ],
   "source": [
    "from sklearn.metrics import classification_report\n",
    "import numpy as np\n",
    "\n",
    "# 预测测试集\n",
    "y_pred = model.predict(X_test)\n",
    "y_pred = np.round(y_pred).astype(int).flatten()  # 将输出四舍五入并转换为整数\n",
    "\n",
    "# 生成分类报告\n",
    "print(classification_report(y_test, y_pred))"
   ]
  },
  {
   "cell_type": "code",
   "execution_count": 11,
   "id": "1623cb79-1058-4a35-b9f8-e30d73e31b98",
   "metadata": {},
   "outputs": [
    {
     "data": {
      "image/png": "[encoded data removed]",
      "text/plain": [
       "<Figure size 576x432 with 2 Axes>"
      ]
     },
     "metadata": {
      "needs_background": "light"
     },
     "output_type": "display_data"
    }
   ],
   "source": [
    "from sklearn.metrics import confusion_matrix\n",
    "import seaborn as sns\n",
    "\n",
    "# 生成混淆矩阵\n",
    "cm = confusion_matrix(y_test, y_pred)\n",
    "\n",
    "# 创建热图\n",
    "plt.figure(figsize=(8, 6))\n",
    "sns.set(font_scale=1.2)\n",
    "sns.heatmap(cm, annot=True, fmt=\"d\", cmap=\"Blues\", linewidths=2, linecolor=\"black\")\n",
    "plt.xlabel(\"Predicted Labels\")\n",
    "plt.ylabel(\"True Labels\")\n",
    "plt.title(\"Confusion Matrix\")\n",
    "plt.show()"
   ]
  },
  {
   "cell_type": "code",
   "execution_count": null,
   "id": "afe9310b-1b34-4783-9c34-44acb4e5a1a7",
   "metadata": {},
   "outputs": [],
   "source": []
  }
 ],
 "metadata": {
  "kernelspec": {
   "display_name": "Python 3 (ipykernel)",
   "language": "python",
   "name": "python3"
  },
  "language_info": {
   "codemirror_mode": {
    "name": "ipython",
    "version": 3
   },
   "file_extension": ".py",
   "mimetype": "text/x-python",
   "name": "python",
   "nbconvert_exporter": "python",
   "pygments_lexer": "ipython3",
   "version": "3.8.10"
  }
 },
 "nbformat": 4,
 "nbformat_minor": 5
}
